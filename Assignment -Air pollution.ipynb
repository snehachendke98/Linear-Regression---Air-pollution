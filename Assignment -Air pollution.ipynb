{
 "cells": [
  {
   "cell_type": "code",
   "execution_count": 13,
   "id": "83a1926a",
   "metadata": {},
   "outputs": [],
   "source": [
    "import pandas as pd\n",
    "import seaborn as sns\n",
    "import numpy as np\n",
    "import statsmodels.api as sm\n",
    "\n",
    "from statsmodels.formula.api import ols"
   ]
  },
  {
   "cell_type": "code",
   "execution_count": 14,
   "id": "d107ab75",
   "metadata": {},
   "outputs": [
    {
     "data": {
      "text/html": [
       "<div>\n",
       "<style scoped>\n",
       "    .dataframe tbody tr th:only-of-type {\n",
       "        vertical-align: middle;\n",
       "    }\n",
       "\n",
       "    .dataframe tbody tr th {\n",
       "        vertical-align: top;\n",
       "    }\n",
       "\n",
       "    .dataframe thead th {\n",
       "        text-align: right;\n",
       "    }\n",
       "</style>\n",
       "<table border=\"1\" class=\"dataframe\">\n",
       "  <thead>\n",
       "    <tr style=\"text-align: right;\">\n",
       "      <th></th>\n",
       "      <th>PM10</th>\n",
       "      <th>Pb</th>\n",
       "      <th>Cd</th>\n",
       "      <th>Cu</th>\n",
       "      <th>Cr</th>\n",
       "      <th>Zn</th>\n",
       "      <th>NOx</th>\n",
       "      <th>SO2</th>\n",
       "      <th>Site</th>\n",
       "      <th>Date</th>\n",
       "      <th>Season</th>\n",
       "    </tr>\n",
       "  </thead>\n",
       "  <tbody>\n",
       "    <tr>\n",
       "      <th>0</th>\n",
       "      <td>120.71</td>\n",
       "      <td>2.67</td>\n",
       "      <td>0.01</td>\n",
       "      <td>0.53</td>\n",
       "      <td>0.61</td>\n",
       "      <td>0</td>\n",
       "      <td>84.17</td>\n",
       "      <td>40.37</td>\n",
       "      <td>Mandai</td>\n",
       "      <td>2004-02-07</td>\n",
       "      <td>Summer</td>\n",
       "    </tr>\n",
       "    <tr>\n",
       "      <th>1</th>\n",
       "      <td>140.25</td>\n",
       "      <td>3.49</td>\n",
       "      <td>0.02</td>\n",
       "      <td>0.10</td>\n",
       "      <td>0.91</td>\n",
       "      <td>0</td>\n",
       "      <td>88.81</td>\n",
       "      <td>39.48</td>\n",
       "      <td>Mandai</td>\n",
       "      <td>2004-02-14</td>\n",
       "      <td>Summer</td>\n",
       "    </tr>\n",
       "    <tr>\n",
       "      <th>2</th>\n",
       "      <td>107.01</td>\n",
       "      <td>1.31</td>\n",
       "      <td>0.01</td>\n",
       "      <td>0.19</td>\n",
       "      <td>0.48</td>\n",
       "      <td>0</td>\n",
       "      <td>81.49</td>\n",
       "      <td>48.29</td>\n",
       "      <td>Mandai</td>\n",
       "      <td>2004-02-21</td>\n",
       "      <td>Summer</td>\n",
       "    </tr>\n",
       "    <tr>\n",
       "      <th>3</th>\n",
       "      <td>88.81</td>\n",
       "      <td>0.76</td>\n",
       "      <td>0.00</td>\n",
       "      <td>0.33</td>\n",
       "      <td>0.39</td>\n",
       "      <td>0</td>\n",
       "      <td>61.80</td>\n",
       "      <td>27.42</td>\n",
       "      <td>Mandai</td>\n",
       "      <td>2004-02-28</td>\n",
       "      <td>Summer</td>\n",
       "    </tr>\n",
       "    <tr>\n",
       "      <th>4</th>\n",
       "      <td>75.05</td>\n",
       "      <td>0.60</td>\n",
       "      <td>0.00</td>\n",
       "      <td>0.41</td>\n",
       "      <td>1.54</td>\n",
       "      <td>0</td>\n",
       "      <td>48.71</td>\n",
       "      <td>19.23</td>\n",
       "      <td>Mandai</td>\n",
       "      <td>2004-03-06</td>\n",
       "      <td>Summer</td>\n",
       "    </tr>\n",
       "  </tbody>\n",
       "</table>\n",
       "</div>"
      ],
      "text/plain": [
       "     PM10    Pb    Cd    Cu    Cr  Zn    NOx    SO2    Site       Date  Season\n",
       "0  120.71  2.67  0.01  0.53  0.61   0  84.17  40.37  Mandai 2004-02-07  Summer\n",
       "1  140.25  3.49  0.02  0.10  0.91   0  88.81  39.48  Mandai 2004-02-14  Summer\n",
       "2  107.01  1.31  0.01  0.19  0.48   0  81.49  48.29  Mandai 2004-02-21  Summer\n",
       "3   88.81  0.76  0.00  0.33  0.39   0  61.80  27.42  Mandai 2004-02-28  Summer\n",
       "4   75.05  0.60  0.00  0.41  1.54   0  48.71  19.23  Mandai 2004-03-06  Summer"
      ]
     },
     "execution_count": 14,
     "metadata": {},
     "output_type": "execute_result"
    }
   ],
   "source": [
    "new = pd.read_excel(r'C:\\Users\\SNEHA\\Downloads\\AirPollution.xls')\n",
    "new.head()"
   ]
  },
  {
   "cell_type": "code",
   "execution_count": 15,
   "id": "a1e69ec8",
   "metadata": {},
   "outputs": [
    {
     "data": {
      "text/html": [
       "<div>\n",
       "<style scoped>\n",
       "    .dataframe tbody tr th:only-of-type {\n",
       "        vertical-align: middle;\n",
       "    }\n",
       "\n",
       "    .dataframe tbody tr th {\n",
       "        vertical-align: top;\n",
       "    }\n",
       "\n",
       "    .dataframe thead th {\n",
       "        text-align: right;\n",
       "    }\n",
       "</style>\n",
       "<table border=\"1\" class=\"dataframe\">\n",
       "  <thead>\n",
       "    <tr style=\"text-align: right;\">\n",
       "      <th></th>\n",
       "      <th>PM10</th>\n",
       "      <th>Pb</th>\n",
       "      <th>Cd</th>\n",
       "      <th>Cu</th>\n",
       "      <th>Cr</th>\n",
       "      <th>NOx</th>\n",
       "      <th>SO2</th>\n",
       "    </tr>\n",
       "  </thead>\n",
       "  <tbody>\n",
       "    <tr>\n",
       "      <th>0</th>\n",
       "      <td>120.71</td>\n",
       "      <td>2.67</td>\n",
       "      <td>0.01</td>\n",
       "      <td>0.53</td>\n",
       "      <td>0.61</td>\n",
       "      <td>84.17</td>\n",
       "      <td>40.37</td>\n",
       "    </tr>\n",
       "    <tr>\n",
       "      <th>1</th>\n",
       "      <td>140.25</td>\n",
       "      <td>3.49</td>\n",
       "      <td>0.02</td>\n",
       "      <td>0.10</td>\n",
       "      <td>0.91</td>\n",
       "      <td>88.81</td>\n",
       "      <td>39.48</td>\n",
       "    </tr>\n",
       "    <tr>\n",
       "      <th>2</th>\n",
       "      <td>107.01</td>\n",
       "      <td>1.31</td>\n",
       "      <td>0.01</td>\n",
       "      <td>0.19</td>\n",
       "      <td>0.48</td>\n",
       "      <td>81.49</td>\n",
       "      <td>48.29</td>\n",
       "    </tr>\n",
       "    <tr>\n",
       "      <th>3</th>\n",
       "      <td>88.81</td>\n",
       "      <td>0.76</td>\n",
       "      <td>0.00</td>\n",
       "      <td>0.33</td>\n",
       "      <td>0.39</td>\n",
       "      <td>61.80</td>\n",
       "      <td>27.42</td>\n",
       "    </tr>\n",
       "    <tr>\n",
       "      <th>4</th>\n",
       "      <td>75.05</td>\n",
       "      <td>0.60</td>\n",
       "      <td>0.00</td>\n",
       "      <td>0.41</td>\n",
       "      <td>1.54</td>\n",
       "      <td>48.71</td>\n",
       "      <td>19.23</td>\n",
       "    </tr>\n",
       "  </tbody>\n",
       "</table>\n",
       "</div>"
      ],
      "text/plain": [
       "     PM10    Pb    Cd    Cu    Cr    NOx    SO2\n",
       "0  120.71  2.67  0.01  0.53  0.61  84.17  40.37\n",
       "1  140.25  3.49  0.02  0.10  0.91  88.81  39.48\n",
       "2  107.01  1.31  0.01  0.19  0.48  81.49  48.29\n",
       "3   88.81  0.76  0.00  0.33  0.39  61.80  27.42\n",
       "4   75.05  0.60  0.00  0.41  1.54  48.71  19.23"
      ]
     },
     "execution_count": 15,
     "metadata": {},
     "output_type": "execute_result"
    }
   ],
   "source": [
    "new=new.drop(['Site','Date','Season','Zn'],axis=1)\n",
    "new.head()"
   ]
  },
  {
   "cell_type": "markdown",
   "id": "3ca90f80",
   "metadata": {},
   "source": [
    "# Data type"
   ]
  },
  {
   "cell_type": "code",
   "execution_count": 16,
   "id": "9ea32e1e",
   "metadata": {},
   "outputs": [
    {
     "name": "stdout",
     "output_type": "stream",
     "text": [
      "<class 'pandas.core.frame.DataFrame'>\n",
      "RangeIndex: 151 entries, 0 to 150\n",
      "Data columns (total 7 columns):\n",
      " #   Column  Non-Null Count  Dtype  \n",
      "---  ------  --------------  -----  \n",
      " 0   PM10    151 non-null    float64\n",
      " 1   Pb      151 non-null    float64\n",
      " 2   Cd      151 non-null    float64\n",
      " 3   Cu      151 non-null    float64\n",
      " 4   Cr      151 non-null    float64\n",
      " 5   NOx     151 non-null    float64\n",
      " 6   SO2     151 non-null    float64\n",
      "dtypes: float64(7)\n",
      "memory usage: 8.4 KB\n"
     ]
    }
   ],
   "source": [
    "new.info()"
   ]
  },
  {
   "cell_type": "markdown",
   "id": "40c5d852",
   "metadata": {},
   "source": [
    "# Univariant analysis"
   ]
  },
  {
   "cell_type": "code",
   "execution_count": 17,
   "id": "5f482425",
   "metadata": {},
   "outputs": [
    {
     "data": {
      "text/html": [
       "<div>\n",
       "<style scoped>\n",
       "    .dataframe tbody tr th:only-of-type {\n",
       "        vertical-align: middle;\n",
       "    }\n",
       "\n",
       "    .dataframe tbody tr th {\n",
       "        vertical-align: top;\n",
       "    }\n",
       "\n",
       "    .dataframe thead th {\n",
       "        text-align: right;\n",
       "    }\n",
       "</style>\n",
       "<table border=\"1\" class=\"dataframe\">\n",
       "  <thead>\n",
       "    <tr style=\"text-align: right;\">\n",
       "      <th></th>\n",
       "      <th>PM10</th>\n",
       "      <th>Pb</th>\n",
       "      <th>Cd</th>\n",
       "      <th>Cu</th>\n",
       "      <th>Cr</th>\n",
       "      <th>NOx</th>\n",
       "      <th>SO2</th>\n",
       "    </tr>\n",
       "  </thead>\n",
       "  <tbody>\n",
       "    <tr>\n",
       "      <th>count</th>\n",
       "      <td>151.000000</td>\n",
       "      <td>151.000000</td>\n",
       "      <td>151.000000</td>\n",
       "      <td>151.000000</td>\n",
       "      <td>151.000000</td>\n",
       "      <td>151.000000</td>\n",
       "      <td>151.000000</td>\n",
       "    </tr>\n",
       "    <tr>\n",
       "      <th>mean</th>\n",
       "      <td>68.536026</td>\n",
       "      <td>0.716358</td>\n",
       "      <td>0.000265</td>\n",
       "      <td>0.331854</td>\n",
       "      <td>0.390066</td>\n",
       "      <td>42.692914</td>\n",
       "      <td>22.359868</td>\n",
       "    </tr>\n",
       "    <tr>\n",
       "      <th>std</th>\n",
       "      <td>40.908548</td>\n",
       "      <td>0.673069</td>\n",
       "      <td>0.001982</td>\n",
       "      <td>0.408259</td>\n",
       "      <td>0.434575</td>\n",
       "      <td>23.101723</td>\n",
       "      <td>10.393498</td>\n",
       "    </tr>\n",
       "    <tr>\n",
       "      <th>min</th>\n",
       "      <td>16.240000</td>\n",
       "      <td>0.000000</td>\n",
       "      <td>0.000000</td>\n",
       "      <td>0.000000</td>\n",
       "      <td>0.000000</td>\n",
       "      <td>8.260000</td>\n",
       "      <td>0.000000</td>\n",
       "    </tr>\n",
       "    <tr>\n",
       "      <th>25%</th>\n",
       "      <td>37.005000</td>\n",
       "      <td>0.220000</td>\n",
       "      <td>0.000000</td>\n",
       "      <td>0.040000</td>\n",
       "      <td>0.085000</td>\n",
       "      <td>25.735000</td>\n",
       "      <td>15.165000</td>\n",
       "    </tr>\n",
       "    <tr>\n",
       "      <th>50%</th>\n",
       "      <td>59.610000</td>\n",
       "      <td>0.570000</td>\n",
       "      <td>0.000000</td>\n",
       "      <td>0.130000</td>\n",
       "      <td>0.230000</td>\n",
       "      <td>37.000000</td>\n",
       "      <td>20.930000</td>\n",
       "    </tr>\n",
       "    <tr>\n",
       "      <th>75%</th>\n",
       "      <td>89.820000</td>\n",
       "      <td>0.965000</td>\n",
       "      <td>0.000000</td>\n",
       "      <td>0.535000</td>\n",
       "      <td>0.580000</td>\n",
       "      <td>54.695000</td>\n",
       "      <td>27.420000</td>\n",
       "    </tr>\n",
       "    <tr>\n",
       "      <th>max</th>\n",
       "      <td>194.740000</td>\n",
       "      <td>3.490000</td>\n",
       "      <td>0.020000</td>\n",
       "      <td>1.650000</td>\n",
       "      <td>3.220000</td>\n",
       "      <td>121.460000</td>\n",
       "      <td>53.270000</td>\n",
       "    </tr>\n",
       "  </tbody>\n",
       "</table>\n",
       "</div>"
      ],
      "text/plain": [
       "             PM10          Pb          Cd          Cu          Cr         NOx  \\\n",
       "count  151.000000  151.000000  151.000000  151.000000  151.000000  151.000000   \n",
       "mean    68.536026    0.716358    0.000265    0.331854    0.390066   42.692914   \n",
       "std     40.908548    0.673069    0.001982    0.408259    0.434575   23.101723   \n",
       "min     16.240000    0.000000    0.000000    0.000000    0.000000    8.260000   \n",
       "25%     37.005000    0.220000    0.000000    0.040000    0.085000   25.735000   \n",
       "50%     59.610000    0.570000    0.000000    0.130000    0.230000   37.000000   \n",
       "75%     89.820000    0.965000    0.000000    0.535000    0.580000   54.695000   \n",
       "max    194.740000    3.490000    0.020000    1.650000    3.220000  121.460000   \n",
       "\n",
       "              SO2  \n",
       "count  151.000000  \n",
       "mean    22.359868  \n",
       "std     10.393498  \n",
       "min      0.000000  \n",
       "25%     15.165000  \n",
       "50%     20.930000  \n",
       "75%     27.420000  \n",
       "max     53.270000  "
      ]
     },
     "execution_count": 17,
     "metadata": {},
     "output_type": "execute_result"
    }
   ],
   "source": [
    "new.describe()"
   ]
  },
  {
   "cell_type": "markdown",
   "id": "920e40bc",
   "metadata": {},
   "source": [
    "# Identify outliers"
   ]
  },
  {
   "cell_type": "code",
   "execution_count": 18,
   "id": "4122db8f",
   "metadata": {},
   "outputs": [
    {
     "data": {
      "image/png": "[encoded data removed]",
      "text/plain": [
       "<Figure size 432x288 with 1 Axes>"
      ]
     },
     "metadata": {
      "needs_background": "light"
     },
     "output_type": "display_data"
    },
    {
     "data": {
      "image/png": "[encoded data removed]",
      "text/plain": [
       "<Figure size 432x288 with 1 Axes>"
      ]
     },
     "metadata": {
      "needs_background": "light"
     },
     "output_type": "display_data"
    },
    {
     "data": {
      "image/png": "[encoded data removed]",
      "text/plain": [
       "<Figure size 432x288 with 1 Axes>"
      ]
     },
     "metadata": {
      "needs_background": "light"
     },
     "output_type": "display_data"
    },
    {
     "data": {
      "image/png": "[encoded data removed]",
      "text/plain": [
       "<Figure size 432x288 with 1 Axes>"
      ]
     },
     "metadata": {
      "needs_background": "light"
     },
     "output_type": "display_data"
    },
    {
     "data": {
      "image/png": "[encoded data removed]",
      "text/plain": [
       "<Figure size 432x288 with 1 Axes>"
      ]
     },
     "metadata": {
      "needs_background": "light"
     },
     "output_type": "display_data"
    },
    {
     "data": {
      "image/png": "[encoded data removed]",
      "text/plain": [
       "<Figure size 432x288 with 1 Axes>"
      ]
     },
     "metadata": {
      "needs_background": "light"
     },
     "output_type": "display_data"
    }
   ],
   "source": [
    "import matplotlib.pyplot as plt\n",
    "j=['PM10','Pb','Cu','Cr','NOx','SO2']\n",
    "for i in j:\n",
    "    plt.figure()\n",
    "    plt.boxplot(new[i])"
   ]
  },
  {
   "cell_type": "code",
   "execution_count": 19,
   "id": "d109c518",
   "metadata": {},
   "outputs": [],
   "source": [
    "def outliers(df,col):\n",
    "    q1 = df[col].quantile(0.25)\n",
    "    q3 = df[col].quantile(0.75)\n",
    "    iqr = q3-q1\n",
    "    upper_limit =q3+ 1.5*iqr\n",
    "    lower_limit =q1- 1.5*iqr\n",
    "    \n",
    "    df[col]=np.where(df[col]>upper_limit,upper_limit,\n",
    "                     np.where(df[col]<lower_limit,lower_limit,df[col]))\n",
    "    return df[col]"
   ]
  },
  {
   "cell_type": "code",
   "execution_count": 20,
   "id": "c94d8301",
   "metadata": {},
   "outputs": [
    {
     "name": "stdout",
     "output_type": "stream",
     "text": [
      "       PM10      Pb    Cu      Cr   Cd    NOx      SO2\n",
      "0    120.71  2.0825  0.53  0.6100  0.0  84.17  40.3700\n",
      "1    140.25  2.0825  0.10  0.9100  0.0  88.81  39.4800\n",
      "2    107.01  1.3100  0.19  0.4800  0.0  81.49  45.8025\n",
      "3     88.81  0.7600  0.33  0.3900  0.0  61.80  27.4200\n",
      "4     75.05  0.6000  0.41  1.3225  0.0  48.71  19.2300\n",
      "..      ...     ...   ...     ...  ...    ...      ...\n",
      "146   40.13  0.1000  0.04  0.0900  0.0  18.88  10.0900\n",
      "147   40.38  0.1000  0.03  0.0900  0.0  47.56  24.1400\n",
      "148   31.28  0.1100  0.02  0.0500  0.0  31.53  26.6400\n",
      "149   52.10  0.4800  0.04  0.0600  0.0  42.08  22.9500\n",
      "150   27.19  0.0200  0.02  0.0300  0.0  53.29  36.2400\n",
      "\n",
      "[151 rows x 7 columns]\n",
      "       PM10      Pb    Cu      Cr   Cd    NOx      SO2\n",
      "0    120.71  2.0825  0.53  0.6100  0.0  84.17  40.3700\n",
      "1    140.25  2.0825  0.10  0.9100  0.0  88.81  39.4800\n",
      "2    107.01  1.3100  0.19  0.4800  0.0  81.49  45.8025\n",
      "3     88.81  0.7600  0.33  0.3900  0.0  61.80  27.4200\n",
      "4     75.05  0.6000  0.41  1.3225  0.0  48.71  19.2300\n",
      "..      ...     ...   ...     ...  ...    ...      ...\n",
      "146   40.13  0.1000  0.04  0.0900  0.0  18.88  10.0900\n",
      "147   40.38  0.1000  0.03  0.0900  0.0  47.56  24.1400\n",
      "148   31.28  0.1100  0.02  0.0500  0.0  31.53  26.6400\n",
      "149   52.10  0.4800  0.04  0.0600  0.0  42.08  22.9500\n",
      "150   27.19  0.0200  0.02  0.0300  0.0  53.29  36.2400\n",
      "\n",
      "[151 rows x 7 columns]\n",
      "       PM10      Pb    Cu      Cr   Cd    NOx      SO2\n",
      "0    120.71  2.0825  0.53  0.6100  0.0  84.17  40.3700\n",
      "1    140.25  2.0825  0.10  0.9100  0.0  88.81  39.4800\n",
      "2    107.01  1.3100  0.19  0.4800  0.0  81.49  45.8025\n",
      "3     88.81  0.7600  0.33  0.3900  0.0  61.80  27.4200\n",
      "4     75.05  0.6000  0.41  1.3225  0.0  48.71  19.2300\n",
      "..      ...     ...   ...     ...  ...    ...      ...\n",
      "146   40.13  0.1000  0.04  0.0900  0.0  18.88  10.0900\n",
      "147   40.38  0.1000  0.03  0.0900  0.0  47.56  24.1400\n",
      "148   31.28  0.1100  0.02  0.0500  0.0  31.53  26.6400\n",
      "149   52.10  0.4800  0.04  0.0600  0.0  42.08  22.9500\n",
      "150   27.19  0.0200  0.02  0.0300  0.0  53.29  36.2400\n",
      "\n",
      "[151 rows x 7 columns]\n",
      "       PM10      Pb    Cu      Cr   Cd    NOx      SO2\n",
      "0    120.71  2.0825  0.53  0.6100  0.0  84.17  40.3700\n",
      "1    140.25  2.0825  0.10  0.9100  0.0  88.81  39.4800\n",
      "2    107.01  1.3100  0.19  0.4800  0.0  81.49  45.8025\n",
      "3     88.81  0.7600  0.33  0.3900  0.0  61.80  27.4200\n",
      "4     75.05  0.6000  0.41  1.3225  0.0  48.71  19.2300\n",
      "..      ...     ...   ...     ...  ...    ...      ...\n",
      "146   40.13  0.1000  0.04  0.0900  0.0  18.88  10.0900\n",
      "147   40.38  0.1000  0.03  0.0900  0.0  47.56  24.1400\n",
      "148   31.28  0.1100  0.02  0.0500  0.0  31.53  26.6400\n",
      "149   52.10  0.4800  0.04  0.0600  0.0  42.08  22.9500\n",
      "150   27.19  0.0200  0.02  0.0300  0.0  53.29  36.2400\n",
      "\n",
      "[151 rows x 7 columns]\n",
      "       PM10      Pb    Cu      Cr   Cd    NOx      SO2\n",
      "0    120.71  2.0825  0.53  0.6100  0.0  84.17  40.3700\n",
      "1    140.25  2.0825  0.10  0.9100  0.0  88.81  39.4800\n",
      "2    107.01  1.3100  0.19  0.4800  0.0  81.49  45.8025\n",
      "3     88.81  0.7600  0.33  0.3900  0.0  61.80  27.4200\n",
      "4     75.05  0.6000  0.41  1.3225  0.0  48.71  19.2300\n",
      "..      ...     ...   ...     ...  ...    ...      ...\n",
      "146   40.13  0.1000  0.04  0.0900  0.0  18.88  10.0900\n",
      "147   40.38  0.1000  0.03  0.0900  0.0  47.56  24.1400\n",
      "148   31.28  0.1100  0.02  0.0500  0.0  31.53  26.6400\n",
      "149   52.10  0.4800  0.04  0.0600  0.0  42.08  22.9500\n",
      "150   27.19  0.0200  0.02  0.0300  0.0  53.29  36.2400\n",
      "\n",
      "[151 rows x 7 columns]\n",
      "       PM10      Pb    Cu      Cr   Cd    NOx      SO2\n",
      "0    120.71  2.0825  0.53  0.6100  0.0  84.17  40.3700\n",
      "1    140.25  2.0825  0.10  0.9100  0.0  88.81  39.4800\n",
      "2    107.01  1.3100  0.19  0.4800  0.0  81.49  45.8025\n",
      "3     88.81  0.7600  0.33  0.3900  0.0  61.80  27.4200\n",
      "4     75.05  0.6000  0.41  1.3225  0.0  48.71  19.2300\n",
      "..      ...     ...   ...     ...  ...    ...      ...\n",
      "146   40.13  0.1000  0.04  0.0900  0.0  18.88  10.0900\n",
      "147   40.38  0.1000  0.03  0.0900  0.0  47.56  24.1400\n",
      "148   31.28  0.1100  0.02  0.0500  0.0  31.53  26.6400\n",
      "149   52.10  0.4800  0.04  0.0600  0.0  42.08  22.9500\n",
      "150   27.19  0.0200  0.02  0.0300  0.0  53.29  36.2400\n",
      "\n",
      "[151 rows x 7 columns]\n",
      "       PM10      Pb    Cu      Cr   Cd    NOx      SO2\n",
      "0    120.71  2.0825  0.53  0.6100  0.0  84.17  40.3700\n",
      "1    140.25  2.0825  0.10  0.9100  0.0  88.81  39.4800\n",
      "2    107.01  1.3100  0.19  0.4800  0.0  81.49  45.8025\n",
      "3     88.81  0.7600  0.33  0.3900  0.0  61.80  27.4200\n",
      "4     75.05  0.6000  0.41  1.3225  0.0  48.71  19.2300\n",
      "..      ...     ...   ...     ...  ...    ...      ...\n",
      "146   40.13  0.1000  0.04  0.0900  0.0  18.88  10.0900\n",
      "147   40.38  0.1000  0.03  0.0900  0.0  47.56  24.1400\n",
      "148   31.28  0.1100  0.02  0.0500  0.0  31.53  26.6400\n",
      "149   52.10  0.4800  0.04  0.0600  0.0  42.08  22.9500\n",
      "150   27.19  0.0200  0.02  0.0300  0.0  53.29  36.2400\n",
      "\n",
      "[151 rows x 7 columns]\n"
     ]
    },
    {
     "data": {
      "image/png": "[encoded data removed]",
      "text/plain": [
       "<Figure size 432x288 with 1 Axes>"
      ]
     },
     "metadata": {
      "needs_background": "light"
     },
     "output_type": "display_data"
    },
    {
     "data": {
      "image/png": "[encoded data removed]",
      "text/plain": [
       "<Figure size 432x288 with 1 Axes>"
      ]
     },
     "metadata": {
      "needs_background": "light"
     },
     "output_type": "display_data"
    },
    {
     "data": {
      "image/png": "[encoded data removed]",
      "text/plain": [
       "<Figure size 432x288 with 1 Axes>"
      ]
     },
     "metadata": {
      "needs_background": "light"
     },
     "output_type": "display_data"
    },
    {
     "data": {
      "image/png": "[encoded data removed]",
      "text/plain": [
       "<Figure size 432x288 with 1 Axes>"
      ]
     },
     "metadata": {
      "needs_background": "light"
     },
     "output_type": "display_data"
    },
    {
     "data": {
      "image/png": "[encoded data removed]",
      "text/plain": [
       "<Figure size 432x288 with 1 Axes>"
      ]
     },
     "metadata": {
      "needs_background": "light"
     },
     "output_type": "display_data"
    },
    {
     "data": {
      "image/png": "[encoded data removed]",
      "text/plain": [
       "<Figure size 432x288 with 1 Axes>"
      ]
     },
     "metadata": {
      "needs_background": "light"
     },
     "output_type": "display_data"
    },
    {
     "data": {
      "image/png": "[encoded data removed]",
      "text/plain": [
       "<Figure size 432x288 with 1 Axes>"
      ]
     },
     "metadata": {
      "needs_background": "light"
     },
     "output_type": "display_data"
    }
   ],
   "source": [
    "j=['PM10','Pb','Cu','Cr','Cd','NOx','SO2']\n",
    "\n",
    "for i in j:\n",
    "    print(outliers(new,j))\n",
    "    \n",
    "for x in j:\n",
    "    plt.figure()\n",
    "    plt.boxplot(new[x])"
   ]
  },
  {
   "cell_type": "code",
   "execution_count": 21,
   "id": "5c453539",
   "metadata": {},
   "outputs": [
    {
     "data": {
      "text/plain": [
       "<AxesSubplot:ylabel='Cd'>"
      ]
     },
     "execution_count": 21,
     "metadata": {},
     "output_type": "execute_result"
    },
    {
     "data": {
      "image/png": "[encoded data removed]",
      "text/plain": [
       "<Figure size 432x288 with 1 Axes>"
      ]
     },
     "metadata": {
      "needs_background": "light"
     },
     "output_type": "display_data"
    }
   ],
   "source": [
    "sns.boxplot(y='Cd',data=new)"
   ]
  },
  {
   "cell_type": "markdown",
   "id": "761fcb31",
   "metadata": {},
   "source": [
    "# Identify null values"
   ]
  },
  {
   "cell_type": "code",
   "execution_count": 11,
   "id": "4ae573b3",
   "metadata": {},
   "outputs": [
    {
     "data": {
      "text/plain": [
       "PM10    0\n",
       "Pb      0\n",
       "Cd      0\n",
       "Cu      0\n",
       "Cr      0\n",
       "NOx     0\n",
       "SO2     0\n",
       "dtype: int64"
      ]
     },
     "execution_count": 11,
     "metadata": {},
     "output_type": "execute_result"
    }
   ],
   "source": [
    "new.isna().sum()"
   ]
  },
  {
   "cell_type": "markdown",
   "id": "80c4f652",
   "metadata": {},
   "source": [
    "# Data partition"
   ]
  },
  {
   "cell_type": "code",
   "execution_count": 31,
   "id": "b56c5208",
   "metadata": {},
   "outputs": [],
   "source": [
    "x = new.drop('PM10',axis=1)\n",
    "y =new[['PM10']]\n",
    "\n",
    "from sklearn.model_selection import train_test_split\n",
    "x_train,x_test,y_train,y_test = train_test_split(x,y,train_size=0.7,random_state=89)"
   ]
  },
  {
   "cell_type": "code",
   "execution_count": 32,
   "id": "fd1f8bef",
   "metadata": {},
   "outputs": [
    {
     "data": {
      "text/html": [
       "<div>\n",
       "<style scoped>\n",
       "    .dataframe tbody tr th:only-of-type {\n",
       "        vertical-align: middle;\n",
       "    }\n",
       "\n",
       "    .dataframe tbody tr th {\n",
       "        vertical-align: top;\n",
       "    }\n",
       "\n",
       "    .dataframe thead th {\n",
       "        text-align: right;\n",
       "    }\n",
       "</style>\n",
       "<table border=\"1\" class=\"dataframe\">\n",
       "  <thead>\n",
       "    <tr style=\"text-align: right;\">\n",
       "      <th></th>\n",
       "      <th>Pb</th>\n",
       "      <th>Cu</th>\n",
       "      <th>Cr</th>\n",
       "      <th>NOx</th>\n",
       "      <th>SO2</th>\n",
       "      <th>PM10</th>\n",
       "    </tr>\n",
       "  </thead>\n",
       "  <tbody>\n",
       "    <tr>\n",
       "      <th>141</th>\n",
       "      <td>0.00</td>\n",
       "      <td>0.00</td>\n",
       "      <td>0.00</td>\n",
       "      <td>22.41</td>\n",
       "      <td>13.26</td>\n",
       "      <td>40.76</td>\n",
       "    </tr>\n",
       "    <tr>\n",
       "      <th>97</th>\n",
       "      <td>1.29</td>\n",
       "      <td>0.78</td>\n",
       "      <td>1.03</td>\n",
       "      <td>29.65</td>\n",
       "      <td>10.49</td>\n",
       "      <td>140.26</td>\n",
       "    </tr>\n",
       "    <tr>\n",
       "      <th>87</th>\n",
       "      <td>0.29</td>\n",
       "      <td>0.09</td>\n",
       "      <td>0.23</td>\n",
       "      <td>19.87</td>\n",
       "      <td>10.06</td>\n",
       "      <td>45.65</td>\n",
       "    </tr>\n",
       "    <tr>\n",
       "      <th>24</th>\n",
       "      <td>0.77</td>\n",
       "      <td>0.54</td>\n",
       "      <td>0.48</td>\n",
       "      <td>49.40</td>\n",
       "      <td>20.82</td>\n",
       "      <td>65.12</td>\n",
       "    </tr>\n",
       "    <tr>\n",
       "      <th>111</th>\n",
       "      <td>0.00</td>\n",
       "      <td>0.00</td>\n",
       "      <td>0.00</td>\n",
       "      <td>19.82</td>\n",
       "      <td>13.72</td>\n",
       "      <td>31.51</td>\n",
       "    </tr>\n",
       "  </tbody>\n",
       "</table>\n",
       "</div>"
      ],
      "text/plain": [
       "       Pb    Cu    Cr    NOx    SO2    PM10\n",
       "141  0.00  0.00  0.00  22.41  13.26   40.76\n",
       "97   1.29  0.78  1.03  29.65  10.49  140.26\n",
       "87   0.29  0.09  0.23  19.87  10.06   45.65\n",
       "24   0.77  0.54  0.48  49.40  20.82   65.12\n",
       "111  0.00  0.00  0.00  19.82  13.72   31.51"
      ]
     },
     "execution_count": 32,
     "metadata": {},
     "output_type": "execute_result"
    }
   ],
   "source": [
    "train = pd.concat([x_train,y_train],axis=1)\n",
    "train.head()"
   ]
  },
  {
   "cell_type": "markdown",
   "id": "2b379b22",
   "metadata": {},
   "source": [
    "# Correlation"
   ]
  },
  {
   "cell_type": "code",
   "execution_count": 33,
   "id": "9c6d8ac8",
   "metadata": {},
   "outputs": [
    {
     "data": {
      "text/html": [
       "<div>\n",
       "<style scoped>\n",
       "    .dataframe tbody tr th:only-of-type {\n",
       "        vertical-align: middle;\n",
       "    }\n",
       "\n",
       "    .dataframe tbody tr th {\n",
       "        vertical-align: top;\n",
       "    }\n",
       "\n",
       "    .dataframe thead th {\n",
       "        text-align: right;\n",
       "    }\n",
       "</style>\n",
       "<table border=\"1\" class=\"dataframe\">\n",
       "  <thead>\n",
       "    <tr style=\"text-align: right;\">\n",
       "      <th></th>\n",
       "      <th>Pb</th>\n",
       "      <th>Cu</th>\n",
       "      <th>Cr</th>\n",
       "      <th>NOx</th>\n",
       "      <th>SO2</th>\n",
       "      <th>PM10</th>\n",
       "    </tr>\n",
       "  </thead>\n",
       "  <tbody>\n",
       "    <tr>\n",
       "      <th>Pb</th>\n",
       "      <td>1.000000</td>\n",
       "      <td>0.700617</td>\n",
       "      <td>0.817430</td>\n",
       "      <td>0.782326</td>\n",
       "      <td>0.705677</td>\n",
       "      <td>0.896412</td>\n",
       "    </tr>\n",
       "    <tr>\n",
       "      <th>Cu</th>\n",
       "      <td>0.700617</td>\n",
       "      <td>1.000000</td>\n",
       "      <td>0.785435</td>\n",
       "      <td>0.537659</td>\n",
       "      <td>0.483920</td>\n",
       "      <td>0.726921</td>\n",
       "    </tr>\n",
       "    <tr>\n",
       "      <th>Cr</th>\n",
       "      <td>0.817430</td>\n",
       "      <td>0.785435</td>\n",
       "      <td>1.000000</td>\n",
       "      <td>0.616463</td>\n",
       "      <td>0.590865</td>\n",
       "      <td>0.850119</td>\n",
       "    </tr>\n",
       "    <tr>\n",
       "      <th>NOx</th>\n",
       "      <td>0.782326</td>\n",
       "      <td>0.537659</td>\n",
       "      <td>0.616463</td>\n",
       "      <td>1.000000</td>\n",
       "      <td>0.883621</td>\n",
       "      <td>0.712305</td>\n",
       "    </tr>\n",
       "    <tr>\n",
       "      <th>SO2</th>\n",
       "      <td>0.705677</td>\n",
       "      <td>0.483920</td>\n",
       "      <td>0.590865</td>\n",
       "      <td>0.883621</td>\n",
       "      <td>1.000000</td>\n",
       "      <td>0.671923</td>\n",
       "    </tr>\n",
       "    <tr>\n",
       "      <th>PM10</th>\n",
       "      <td>0.896412</td>\n",
       "      <td>0.726921</td>\n",
       "      <td>0.850119</td>\n",
       "      <td>0.712305</td>\n",
       "      <td>0.671923</td>\n",
       "      <td>1.000000</td>\n",
       "    </tr>\n",
       "  </tbody>\n",
       "</table>\n",
       "</div>"
      ],
      "text/plain": [
       "            Pb        Cu        Cr       NOx       SO2      PM10\n",
       "Pb    1.000000  0.700617  0.817430  0.782326  0.705677  0.896412\n",
       "Cu    0.700617  1.000000  0.785435  0.537659  0.483920  0.726921\n",
       "Cr    0.817430  0.785435  1.000000  0.616463  0.590865  0.850119\n",
       "NOx   0.782326  0.537659  0.616463  1.000000  0.883621  0.712305\n",
       "SO2   0.705677  0.483920  0.590865  0.883621  1.000000  0.671923\n",
       "PM10  0.896412  0.726921  0.850119  0.712305  0.671923  1.000000"
      ]
     },
     "execution_count": 33,
     "metadata": {},
     "output_type": "execute_result"
    }
   ],
   "source": [
    "train.corr()"
   ]
  },
  {
   "cell_type": "code",
   "execution_count": 34,
   "id": "2cc29b09",
   "metadata": {},
   "outputs": [
    {
     "data": {
      "text/plain": [
       "<AxesSubplot:>"
      ]
     },
     "execution_count": 34,
     "metadata": {},
     "output_type": "execute_result"
    },
    {
     "data": {
      "image/png": "[encoded data removed]",
      "text/plain": [
       "<Figure size 432x288 with 2 Axes>"
      ]
     },
     "metadata": {
      "needs_background": "light"
     },
     "output_type": "display_data"
    }
   ],
   "source": [
    "sns.heatmap(train.corr(),annot=True)"
   ]
  },
  {
   "cell_type": "markdown",
   "id": "37c394f4",
   "metadata": {},
   "source": [
    "# Multicolinearity"
   ]
  },
  {
   "cell_type": "code",
   "execution_count": 35,
   "id": "4853b5ec",
   "metadata": {},
   "outputs": [
    {
     "data": {
      "text/plain": [
       "Pb      8.933000\n",
       "Cu      4.771816\n",
       "Cr      7.989952\n",
       "NOx    21.479993\n",
       "SO2    18.211013\n",
       "dtype: float64"
      ]
     },
     "execution_count": 35,
     "metadata": {},
     "output_type": "execute_result"
    }
   ],
   "source": [
    "from statsmodels.stats.outliers_influence import variance_inflation_factor\n",
    "x1= new.drop('PM10',axis=1)\n",
    "series_before=pd.Series([variance_inflation_factor(x1.values,i)\n",
    "                        for i in range(x1.shape[1])],\n",
    "                       index=x1.columns)\n",
    "series_before"
   ]
  },
  {
   "cell_type": "markdown",
   "id": "b04463e5",
   "metadata": {},
   "source": [
    "# Model building"
   ]
  },
  {
   "cell_type": "markdown",
   "id": "6743debc",
   "metadata": {},
   "source": [
    "#### H0: There is no relationship between PM10 and other parameters"
   ]
  },
  {
   "cell_type": "markdown",
   "id": "54234b0e",
   "metadata": {},
   "source": [
    "#### vs"
   ]
  },
  {
   "cell_type": "markdown",
   "id": "5025562e",
   "metadata": {},
   "source": [
    "#### H1: There is relationship between PM10 and other parameters"
   ]
  },
  {
   "cell_type": "markdown",
   "id": "82e979db",
   "metadata": {},
   "source": [
    "#### Alpha=0.05"
   ]
  },
  {
   "cell_type": "code",
   "execution_count": 36,
   "id": "bc30858a",
   "metadata": {},
   "outputs": [
    {
     "data": {
      "text/html": [
       "<table class=\"simpletable\">\n",
       "<caption>OLS Regression Results</caption>\n",
       "<tr>\n",
       "  <th>Dep. Variable:</th>          <td>PM10</td>       <th>  R-squared:         </th> <td>   0.849</td>\n",
       "</tr>\n",
       "<tr>\n",
       "  <th>Model:</th>                   <td>OLS</td>       <th>  Adj. R-squared:    </th> <td>   0.842</td>\n",
       "</tr>\n",
       "<tr>\n",
       "  <th>Method:</th>             <td>Least Squares</td>  <th>  F-statistic:       </th> <td>   111.5</td>\n",
       "</tr>\n",
       "<tr>\n",
       "  <th>Date:</th>             <td>Wed, 18 May 2022</td> <th>  Prob (F-statistic):</th> <td>4.52e-39</td>\n",
       "</tr>\n",
       "<tr>\n",
       "  <th>Time:</th>                 <td>08:32:46</td>     <th>  Log-Likelihood:    </th> <td> -440.60</td>\n",
       "</tr>\n",
       "<tr>\n",
       "  <th>No. Observations:</th>      <td>   105</td>      <th>  AIC:               </th> <td>   893.2</td>\n",
       "</tr>\n",
       "<tr>\n",
       "  <th>Df Residuals:</th>          <td>    99</td>      <th>  BIC:               </th> <td>   909.1</td>\n",
       "</tr>\n",
       "<tr>\n",
       "  <th>Df Model:</th>              <td>     5</td>      <th>                     </th>     <td> </td>   \n",
       "</tr>\n",
       "<tr>\n",
       "  <th>Covariance Type:</th>      <td>nonrobust</td>    <th>                     </th>     <td> </td>   \n",
       "</tr>\n",
       "</table>\n",
       "<table class=\"simpletable\">\n",
       "<tr>\n",
       "      <td></td>         <th>coef</th>     <th>std err</th>      <th>t</th>      <th>P>|t|</th>  <th>[0.025</th>    <th>0.975]</th>  \n",
       "</tr>\n",
       "<tr>\n",
       "  <th>Intercept</th> <td>   19.7367</td> <td>    4.137</td> <td>    4.771</td> <td> 0.000</td> <td>   11.528</td> <td>   27.945</td>\n",
       "</tr>\n",
       "<tr>\n",
       "  <th>Pb</th>        <td>   40.8524</td> <td>    6.327</td> <td>    6.457</td> <td> 0.000</td> <td>   28.298</td> <td>   53.406</td>\n",
       "</tr>\n",
       "<tr>\n",
       "  <th>Cu</th>        <td>    6.9508</td> <td>    6.511</td> <td>    1.068</td> <td> 0.288</td> <td>   -5.968</td> <td>   19.870</td>\n",
       "</tr>\n",
       "<tr>\n",
       "  <th>Cr</th>        <td>   34.7555</td> <td>    9.172</td> <td>    3.789</td> <td> 0.000</td> <td>   16.556</td> <td>   52.955</td>\n",
       "</tr>\n",
       "<tr>\n",
       "  <th>NOx</th>       <td>   -0.0527</td> <td>    0.174</td> <td>   -0.302</td> <td> 0.763</td> <td>   -0.399</td> <td>    0.293</td>\n",
       "</tr>\n",
       "<tr>\n",
       "  <th>SO2</th>       <td>    0.3741</td> <td>    0.349</td> <td>    1.072</td> <td> 0.286</td> <td>   -0.318</td> <td>    1.066</td>\n",
       "</tr>\n",
       "</table>\n",
       "<table class=\"simpletable\">\n",
       "<tr>\n",
       "  <th>Omnibus:</th>       <td>11.202</td> <th>  Durbin-Watson:     </th> <td>   1.901</td>\n",
       "</tr>\n",
       "<tr>\n",
       "  <th>Prob(Omnibus):</th> <td> 0.004</td> <th>  Jarque-Bera (JB):  </th> <td>  11.718</td>\n",
       "</tr>\n",
       "<tr>\n",
       "  <th>Skew:</th>          <td> 0.695</td> <th>  Prob(JB):          </th> <td> 0.00285</td>\n",
       "</tr>\n",
       "<tr>\n",
       "  <th>Kurtosis:</th>      <td> 3.863</td> <th>  Cond. No.          </th> <td>    360.</td>\n",
       "</tr>\n",
       "</table><br/><br/>Notes:<br/>[1] Standard Errors assume that the covariance matrix of the errors is correctly specified."
      ],
      "text/plain": [
       "<class 'statsmodels.iolib.summary.Summary'>\n",
       "\"\"\"\n",
       "                            OLS Regression Results                            \n",
       "==============================================================================\n",
       "Dep. Variable:                   PM10   R-squared:                       0.849\n",
       "Model:                            OLS   Adj. R-squared:                  0.842\n",
       "Method:                 Least Squares   F-statistic:                     111.5\n",
       "Date:                Wed, 18 May 2022   Prob (F-statistic):           4.52e-39\n",
       "Time:                        08:32:46   Log-Likelihood:                -440.60\n",
       "No. Observations:                 105   AIC:                             893.2\n",
       "Df Residuals:                      99   BIC:                             909.1\n",
       "Df Model:                           5                                         \n",
       "Covariance Type:            nonrobust                                         \n",
       "==============================================================================\n",
       "                 coef    std err          t      P>|t|      [0.025      0.975]\n",
       "------------------------------------------------------------------------------\n",
       "Intercept     19.7367      4.137      4.771      0.000      11.528      27.945\n",
       "Pb            40.8524      6.327      6.457      0.000      28.298      53.406\n",
       "Cu             6.9508      6.511      1.068      0.288      -5.968      19.870\n",
       "Cr            34.7555      9.172      3.789      0.000      16.556      52.955\n",
       "NOx           -0.0527      0.174     -0.302      0.763      -0.399       0.293\n",
       "SO2            0.3741      0.349      1.072      0.286      -0.318       1.066\n",
       "==============================================================================\n",
       "Omnibus:                       11.202   Durbin-Watson:                   1.901\n",
       "Prob(Omnibus):                  0.004   Jarque-Bera (JB):               11.718\n",
       "Skew:                           0.695   Prob(JB):                      0.00285\n",
       "Kurtosis:                       3.863   Cond. No.                         360.\n",
       "==============================================================================\n",
       "\n",
       "Notes:\n",
       "[1] Standard Errors assume that the covariance matrix of the errors is correctly specified.\n",
       "\"\"\""
      ]
     },
     "execution_count": 36,
     "metadata": {},
     "output_type": "execute_result"
    }
   ],
   "source": [
    "from statsmodels.formula.api import ols\n",
    "model=ols('PM10 ~ Pb+Cu+Cr+NOx+SO2',data=train).fit()\n",
    "model.summary()"
   ]
  },
  {
   "cell_type": "code",
   "execution_count": null,
   "id": "1b672bda",
   "metadata": {},
   "outputs": [],
   "source": [
    "* 84% accuracy of model\n",
    "* "
   ]
  },
  {
   "cell_type": "markdown",
   "id": "47405668",
   "metadata": {},
   "source": [
    "# Assumption in model"
   ]
  },
  {
   "cell_type": "markdown",
   "id": "df79caf8",
   "metadata": {},
   "source": [
    "## Linearity"
   ]
  },
  {
   "cell_type": "code",
   "execution_count": null,
   "id": "22e24a06",
   "metadata": {},
   "outputs": [],
   "source": [
    "sns.scatterplot(x='',y='',data=train)"
   ]
  },
  {
   "cell_type": "markdown",
   "id": "faf5084e",
   "metadata": {},
   "source": [
    "## Constant variance"
   ]
  },
  {
   "cell_type": "code",
   "execution_count": 37,
   "id": "7dc6fde3",
   "metadata": {},
   "outputs": [
    {
     "data": {
      "text/html": [
       "<div>\n",
       "<style scoped>\n",
       "    .dataframe tbody tr th:only-of-type {\n",
       "        vertical-align: middle;\n",
       "    }\n",
       "\n",
       "    .dataframe tbody tr th {\n",
       "        vertical-align: top;\n",
       "    }\n",
       "\n",
       "    .dataframe thead th {\n",
       "        text-align: right;\n",
       "    }\n",
       "</style>\n",
       "<table border=\"1\" class=\"dataframe\">\n",
       "  <thead>\n",
       "    <tr style=\"text-align: right;\">\n",
       "      <th></th>\n",
       "      <th>Pb</th>\n",
       "      <th>Cu</th>\n",
       "      <th>Cr</th>\n",
       "      <th>NOx</th>\n",
       "      <th>SO2</th>\n",
       "      <th>PM10</th>\n",
       "      <th>fitted_values</th>\n",
       "      <th>residual</th>\n",
       "    </tr>\n",
       "  </thead>\n",
       "  <tbody>\n",
       "    <tr>\n",
       "      <th>141</th>\n",
       "      <td>0.00</td>\n",
       "      <td>0.00</td>\n",
       "      <td>0.00</td>\n",
       "      <td>22.41</td>\n",
       "      <td>13.26</td>\n",
       "      <td>40.76</td>\n",
       "      <td>23.515886</td>\n",
       "      <td>17.244114</td>\n",
       "    </tr>\n",
       "    <tr>\n",
       "      <th>97</th>\n",
       "      <td>1.29</td>\n",
       "      <td>0.78</td>\n",
       "      <td>1.03</td>\n",
       "      <td>29.65</td>\n",
       "      <td>10.49</td>\n",
       "      <td>140.26</td>\n",
       "      <td>116.017254</td>\n",
       "      <td>24.242746</td>\n",
       "    </tr>\n",
       "    <tr>\n",
       "      <th>87</th>\n",
       "      <td>0.29</td>\n",
       "      <td>0.09</td>\n",
       "      <td>0.23</td>\n",
       "      <td>19.87</td>\n",
       "      <td>10.06</td>\n",
       "      <td>45.65</td>\n",
       "      <td>42.919176</td>\n",
       "      <td>2.730824</td>\n",
       "    </tr>\n",
       "    <tr>\n",
       "      <th>24</th>\n",
       "      <td>0.77</td>\n",
       "      <td>0.54</td>\n",
       "      <td>0.48</td>\n",
       "      <td>49.40</td>\n",
       "      <td>20.82</td>\n",
       "      <td>65.12</td>\n",
       "      <td>76.813607</td>\n",
       "      <td>-11.693607</td>\n",
       "    </tr>\n",
       "    <tr>\n",
       "      <th>111</th>\n",
       "      <td>0.00</td>\n",
       "      <td>0.00</td>\n",
       "      <td>0.00</td>\n",
       "      <td>19.82</td>\n",
       "      <td>13.72</td>\n",
       "      <td>31.51</td>\n",
       "      <td>23.824517</td>\n",
       "      <td>7.685483</td>\n",
       "    </tr>\n",
       "  </tbody>\n",
       "</table>\n",
       "</div>"
      ],
      "text/plain": [
       "       Pb    Cu    Cr    NOx    SO2    PM10  fitted_values   residual\n",
       "141  0.00  0.00  0.00  22.41  13.26   40.76      23.515886  17.244114\n",
       "97   1.29  0.78  1.03  29.65  10.49  140.26     116.017254  24.242746\n",
       "87   0.29  0.09  0.23  19.87  10.06   45.65      42.919176   2.730824\n",
       "24   0.77  0.54  0.48  49.40  20.82   65.12      76.813607 -11.693607\n",
       "111  0.00  0.00  0.00  19.82  13.72   31.51      23.824517   7.685483"
      ]
     },
     "execution_count": 37,
     "metadata": {},
     "output_type": "execute_result"
    }
   ],
   "source": [
    "train['fitted_values']=model.fittedvalues\n",
    "train['residual']=model.resid\n",
    "train.head()"
   ]
  },
  {
   "cell_type": "code",
   "execution_count": 38,
   "id": "5c2e2810",
   "metadata": {},
   "outputs": [
    {
     "data": {
      "text/plain": [
       "<AxesSubplot:xlabel='fitted_values', ylabel='residual'>"
      ]
     },
     "execution_count": 38,
     "metadata": {},
     "output_type": "execute_result"
    },
    {
     "data": {
      "image/png": "[encoded data removed]",
      "text/plain": [
       "<Figure size 432x288 with 1 Axes>"
      ]
     },
     "metadata": {
      "needs_background": "light"
     },
     "output_type": "display_data"
    }
   ],
   "source": [
    "sns.scatterplot(x='fitted_values',y='residual',data=train)"
   ]
  },
  {
   "cell_type": "markdown",
   "id": "811e6f63",
   "metadata": {},
   "source": [
    "## Normality"
   ]
  },
  {
   "cell_type": "code",
   "execution_count": 39,
   "id": "52c92972",
   "metadata": {},
   "outputs": [
    {
     "name": "stderr",
     "output_type": "stream",
     "text": [
      "C:\\Users\\SNEHA\\AppData\\Local\\Temp/ipykernel_15932/1360547913.py:3: UserWarning: Matplotlib is currently using module://matplotlib_inline.backend_inline, which is a non-GUI backend, so cannot show the figure.\n",
      "  fig.show()\n"
     ]
    },
    {
     "data": {
      "image/png": "[encoded data removed]",
      "text/plain": [
       "<Figure size 432x288 with 1 Axes>"
      ]
     },
     "metadata": {
      "needs_background": "light"
     },
     "output_type": "display_data"
    }
   ],
   "source": [
    "import statsmodels.api as sm \n",
    "fig =sm.qqplot(train['residual'],fit=True,line='s')\n",
    "fig.show()"
   ]
  },
  {
   "cell_type": "markdown",
   "id": "269df81f",
   "metadata": {},
   "source": [
    "## Model error should be IID"
   ]
  },
  {
   "cell_type": "code",
   "execution_count": 40,
   "id": "6526c539",
   "metadata": {},
   "outputs": [
    {
     "name": "stderr",
     "output_type": "stream",
     "text": [
      "C:\\Users\\SNEHA\\anaconda3\\lib\\site-packages\\seaborn\\distributions.py:2619: FutureWarning: `distplot` is a deprecated function and will be removed in a future version. Please adapt your code to use either `displot` (a figure-level function with similar flexibility) or `histplot` (an axes-level function for histograms).\n",
      "  warnings.warn(msg, FutureWarning)\n"
     ]
    },
    {
     "data": {
      "text/plain": [
       "<AxesSubplot:xlabel='residual', ylabel='Density'>"
      ]
     },
     "execution_count": 40,
     "metadata": {},
     "output_type": "execute_result"
    },
    {
     "data": {
      "image/png": "[encoded data removed]",
      "text/plain": [
       "<Figure size 432x288 with 1 Axes>"
      ]
     },
     "metadata": {
      "needs_background": "light"
     },
     "output_type": "display_data"
    }
   ],
   "source": [
    "sns.distplot(train.residual)"
   ]
  },
  {
   "cell_type": "markdown",
   "id": "c0bd6326",
   "metadata": {},
   "source": [
    "# Prediction"
   ]
  },
  {
   "cell_type": "code",
   "execution_count": 41,
   "id": "d402bf87",
   "metadata": {},
   "outputs": [
    {
     "data": {
      "text/html": [
       "<div>\n",
       "<style scoped>\n",
       "    .dataframe tbody tr th:only-of-type {\n",
       "        vertical-align: middle;\n",
       "    }\n",
       "\n",
       "    .dataframe tbody tr th {\n",
       "        vertical-align: top;\n",
       "    }\n",
       "\n",
       "    .dataframe thead th {\n",
       "        text-align: right;\n",
       "    }\n",
       "</style>\n",
       "<table border=\"1\" class=\"dataframe\">\n",
       "  <thead>\n",
       "    <tr style=\"text-align: right;\">\n",
       "      <th></th>\n",
       "      <th>Pb</th>\n",
       "      <th>Cu</th>\n",
       "      <th>Cr</th>\n",
       "      <th>NOx</th>\n",
       "      <th>SO2</th>\n",
       "      <th>PM10</th>\n",
       "    </tr>\n",
       "  </thead>\n",
       "  <tbody>\n",
       "    <tr>\n",
       "      <th>104</th>\n",
       "      <td>0.39</td>\n",
       "      <td>0.00</td>\n",
       "      <td>0.05</td>\n",
       "      <td>36.96</td>\n",
       "      <td>12.16</td>\n",
       "      <td>46.84</td>\n",
       "    </tr>\n",
       "    <tr>\n",
       "      <th>117</th>\n",
       "      <td>0.08</td>\n",
       "      <td>0.01</td>\n",
       "      <td>0.02</td>\n",
       "      <td>24.08</td>\n",
       "      <td>16.65</td>\n",
       "      <td>29.97</td>\n",
       "    </tr>\n",
       "    <tr>\n",
       "      <th>14</th>\n",
       "      <td>0.41</td>\n",
       "      <td>0.05</td>\n",
       "      <td>0.11</td>\n",
       "      <td>20.40</td>\n",
       "      <td>12.84</td>\n",
       "      <td>28.50</td>\n",
       "    </tr>\n",
       "    <tr>\n",
       "      <th>32</th>\n",
       "      <td>0.37</td>\n",
       "      <td>0.17</td>\n",
       "      <td>0.19</td>\n",
       "      <td>42.75</td>\n",
       "      <td>30.80</td>\n",
       "      <td>37.28</td>\n",
       "    </tr>\n",
       "    <tr>\n",
       "      <th>137</th>\n",
       "      <td>0.00</td>\n",
       "      <td>0.00</td>\n",
       "      <td>0.00</td>\n",
       "      <td>13.21</td>\n",
       "      <td>9.08</td>\n",
       "      <td>61.89</td>\n",
       "    </tr>\n",
       "  </tbody>\n",
       "</table>\n",
       "</div>"
      ],
      "text/plain": [
       "       Pb    Cu    Cr    NOx    SO2   PM10\n",
       "104  0.39  0.00  0.05  36.96  12.16  46.84\n",
       "117  0.08  0.01  0.02  24.08  16.65  29.97\n",
       "14   0.41  0.05  0.11  20.40  12.84  28.50\n",
       "32   0.37  0.17  0.19  42.75  30.80  37.28\n",
       "137  0.00  0.00  0.00  13.21   9.08  61.89"
      ]
     },
     "execution_count": 41,
     "metadata": {},
     "output_type": "execute_result"
    }
   ],
   "source": [
    "test=pd.concat([x_test,y_test],axis=1)\n",
    "test.head()"
   ]
  },
  {
   "cell_type": "code",
   "execution_count": 42,
   "id": "67ab91b2",
   "metadata": {},
   "outputs": [
    {
     "data": {
      "text/html": [
       "<div>\n",
       "<style scoped>\n",
       "    .dataframe tbody tr th:only-of-type {\n",
       "        vertical-align: middle;\n",
       "    }\n",
       "\n",
       "    .dataframe tbody tr th {\n",
       "        vertical-align: top;\n",
       "    }\n",
       "\n",
       "    .dataframe thead th {\n",
       "        text-align: right;\n",
       "    }\n",
       "</style>\n",
       "<table border=\"1\" class=\"dataframe\">\n",
       "  <thead>\n",
       "    <tr style=\"text-align: right;\">\n",
       "      <th></th>\n",
       "      <th>Pb</th>\n",
       "      <th>Cu</th>\n",
       "      <th>Cr</th>\n",
       "      <th>NOx</th>\n",
       "      <th>SO2</th>\n",
       "      <th>PM10</th>\n",
       "      <th>predicted</th>\n",
       "    </tr>\n",
       "  </thead>\n",
       "  <tbody>\n",
       "    <tr>\n",
       "      <th>104</th>\n",
       "      <td>0.39</td>\n",
       "      <td>0.00</td>\n",
       "      <td>0.05</td>\n",
       "      <td>36.96</td>\n",
       "      <td>12.16</td>\n",
       "      <td>46.84</td>\n",
       "      <td>40.007496</td>\n",
       "    </tr>\n",
       "    <tr>\n",
       "      <th>117</th>\n",
       "      <td>0.08</td>\n",
       "      <td>0.01</td>\n",
       "      <td>0.02</td>\n",
       "      <td>24.08</td>\n",
       "      <td>16.65</td>\n",
       "      <td>29.97</td>\n",
       "      <td>28.728864</td>\n",
       "    </tr>\n",
       "    <tr>\n",
       "      <th>14</th>\n",
       "      <td>0.41</td>\n",
       "      <td>0.05</td>\n",
       "      <td>0.11</td>\n",
       "      <td>20.40</td>\n",
       "      <td>12.84</td>\n",
       "      <td>28.50</td>\n",
       "      <td>44.384839</td>\n",
       "    </tr>\n",
       "    <tr>\n",
       "      <th>32</th>\n",
       "      <td>0.37</td>\n",
       "      <td>0.17</td>\n",
       "      <td>0.19</td>\n",
       "      <td>42.75</td>\n",
       "      <td>30.80</td>\n",
       "      <td>37.28</td>\n",
       "      <td>51.905911</td>\n",
       "    </tr>\n",
       "    <tr>\n",
       "      <th>137</th>\n",
       "      <td>0.00</td>\n",
       "      <td>0.00</td>\n",
       "      <td>0.00</td>\n",
       "      <td>13.21</td>\n",
       "      <td>9.08</td>\n",
       "      <td>61.89</td>\n",
       "      <td>22.437150</td>\n",
       "    </tr>\n",
       "  </tbody>\n",
       "</table>\n",
       "</div>"
      ],
      "text/plain": [
       "       Pb    Cu    Cr    NOx    SO2   PM10  predicted\n",
       "104  0.39  0.00  0.05  36.96  12.16  46.84  40.007496\n",
       "117  0.08  0.01  0.02  24.08  16.65  29.97  28.728864\n",
       "14   0.41  0.05  0.11  20.40  12.84  28.50  44.384839\n",
       "32   0.37  0.17  0.19  42.75  30.80  37.28  51.905911\n",
       "137  0.00  0.00  0.00  13.21   9.08  61.89  22.437150"
      ]
     },
     "execution_count": 42,
     "metadata": {},
     "output_type": "execute_result"
    }
   ],
   "source": [
    "test['predicted']=model.predict(test)\n",
    "test.head()"
   ]
  }
 ],
 "metadata": {
  "kernelspec": {
   "display_name": "Python 3 (ipykernel)",
   "language": "python",
   "name": "python3"
  },
  "language_info": {
   "codemirror_mode": {
    "name": "ipython",
    "version": 3
   },
   "file_extension": ".py",
   "mimetype": "text/x-python",
   "name": "python",
   "nbconvert_exporter": "python",
   "pygments_lexer": "ipython3",
   "version": "3.9.7"
  }
 },
 "nbformat": 4,
 "nbformat_minor": 5
}
